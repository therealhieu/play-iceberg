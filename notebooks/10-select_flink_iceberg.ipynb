{
 "cells": [
  {
   "cell_type": "markdown",
   "metadata": {},
   "source": [
    "# Flink + Iceberg Local Development Setup\n",
    "\n",
    "## Objectives\n",
    "- Configure PyFlink for local development with Iceberg integration\n",
    "- Establish connection to remote Iceberg services from local environment\n",
    "- Validate cross-environment connectivity between local Flink and containerized services\n",
    "- Demonstrate local development workflow for Flink-Iceberg applications"
   ]
  },
  {
   "cell_type": "code",
   "execution_count": 1,
   "metadata": {},
   "outputs": [
    {
     "name": "stdout",
     "output_type": "stream",
     "text": [
      "✅ AWS environment variables set for local development\n"
     ]
    }
   ],
   "source": [
    "import os\n",
    "from pyflink.datastream import StreamExecutionEnvironment\n",
    "from pyflink.table import StreamTableEnvironment\n",
    "\n",
    "# Set AWS environment variables for local development\n",
    "os.environ['AWS_REGION'] = 'us-east-1'\n",
    "os.environ['AWS_ACCESS_KEY_ID'] = 'admin'\n",
    "os.environ['AWS_SECRET_ACCESS_KEY'] = 'password'\n",
    "\n",
    "print(\"✅ AWS environment variables set for local development\")"
   ]
  },
  {
   "cell_type": "code",
   "execution_count": 2,
   "metadata": {},
   "outputs": [
    {
     "name": "stderr",
     "output_type": "stream",
     "text": [
      "/Users/hieunguyen/git/hieu/projects/play-iceberg/.venv/lib/python3.11/site-packages/apache_beam/runners/portability/stager.py:63: UserWarning: pkg_resources is deprecated as an API. See https://setuptools.pypa.io/en/latest/pkg_resources.html. The pkg_resources package is slated for removal as early as 2025-11-30. Refrain from using this package or pin to Setuptools<81.\n",
      "  import pkg_resources\n"
     ]
    }
   ],
   "source": [
    "env = StreamExecutionEnvironment.get_execution_environment()\n",
    "table_env = StreamTableEnvironment.create(stream_execution_environment=env) # type: ignore"
   ]
  },
  {
   "cell_type": "code",
   "execution_count": 3,
   "metadata": {},
   "outputs": [
    {
     "name": "stdout",
     "output_type": "stream",
     "text": [
      "+-----------------+\n",
      "|    catalog name |\n",
      "+-----------------+\n",
      "| default_catalog |\n",
      "+-----------------+\n",
      "1 row in set\n"
     ]
    }
   ],
   "source": [
    "table_env.execute_sql(\"SHOW CATALOGS\").print()"
   ]
  },
  {
   "cell_type": "code",
   "execution_count": 4,
   "metadata": {},
   "outputs": [
    {
     "name": "stdout",
     "output_type": "stream",
     "text": [
      "OK\n"
     ]
    }
   ],
   "source": [
    "catalog_sql = \"\"\"\n",
    "CREATE CATALOG IF NOT EXISTS iceberg_catalog WITH (\n",
    "    'type' = 'iceberg',\n",
    "    'catalog-type'='rest',\n",
    "    'uri' = 'http://localhost:8181',\n",
    "    'warehouse' = 's3://warehouse/',\n",
    "    'io-impl' = 'org.apache.iceberg.aws.s3.S3FileIO',\n",
    "    's3.endpoint' = 'http://localhost:9000',\n",
    "    's3.region' = 'us-east-1',\n",
    "    's3.access-key-id' = 'admin',\n",
    "    's3.secret-access-key' = 'password',\n",
    "    's3.path-style-access' = 'true'\n",
    ")\n",
    "\"\"\"\n",
    "\n",
    "table_env.execute_sql(catalog_sql).print()\n"
   ]
  },
  {
   "cell_type": "code",
   "execution_count": 5,
   "metadata": {},
   "outputs": [
    {
     "name": "stdout",
     "output_type": "stream",
     "text": [
      "+-----------------+\n",
      "|    catalog name |\n",
      "+-----------------+\n",
      "| default_catalog |\n",
      "| iceberg_catalog |\n",
      "+-----------------+\n",
      "2 rows in set\n"
     ]
    }
   ],
   "source": [
    "table_env.execute_sql(\"SHOW CATALOGS\").print()"
   ]
  },
  {
   "cell_type": "code",
   "execution_count": 6,
   "metadata": {},
   "outputs": [
    {
     "name": "stdout",
     "output_type": "stream",
     "text": [
      "✅ Using iceberg_catalog\n",
      "\n",
      "Available namespaces:\n",
      "+---------------+\n",
      "| database name |\n",
      "+---------------+\n",
      "|  play_iceberg |\n",
      "+---------------+\n",
      "1 row in set\n"
     ]
    }
   ],
   "source": [
    "# Switch to iceberg catalog and namespace\n",
    "table_env.use_catalog(\"iceberg_catalog\")\n",
    "print(\"✅ Using iceberg_catalog\")\n",
    "\n",
    "# List available databases/namespaces\n",
    "print(\"\\nAvailable namespaces:\")\n",
    "table_env.execute_sql(\"SHOW DATABASES\").print()\n"
   ]
  },
  {
   "cell_type": "code",
   "execution_count": 7,
   "metadata": {},
   "outputs": [
    {
     "name": "stdout",
     "output_type": "stream",
     "text": [
      "✅ Using play_iceberg namespace\n",
      "\n",
      "Available tables:\n",
      "+------------+\n",
      "| table name |\n",
      "\n",
      "Querying users table:\n",
      "+------------+\n",
      "|      users |\n",
      "+------------+\n",
      "1 row in set\n",
      "2025-07-02 16:27:41,551 INFO  org.apache.hadoop.io.compress.CodecPool                      [] - Got brand-new decompressor [.zstd]\n",
      "+----+----------------------+--------------------------------+--------------------------------+-----------+--------------+---------------+-------------+----------------------------+\n",
      "| op |              user_id |                       username |                          email | is_active | created_year | created_month | created_day |                 updated_at |\n",
      "+----+----------------------+--------------------------------+--------------------------------+-----------+--------------+---------------+-------------+----------------------------+\n",
      "| +I |                    1 |                       john_doe |           john.doe@example.com |      TRUE |         2025 |             7 |           2 | 2025-07-02 08:11:32.958859 |\n",
      "| +I |                    2 |                     jane_smith |         jane.smith@example.com |      TRUE |         2025 |             7 |           2 | 2025-07-02 08:11:32.958859 |\n",
      "| +I |                    3 |                   alice_wonder |       alice.wonder@example.com |     FALSE |         2025 |             7 |           2 | 2025-07-02 08:11:32.958859 |\n",
      "| +I |                    4 |                    bob_builder |        bob.builder@example.com |      TRUE |         2025 |             7 |           2 | 2025-07-02 08:11:32.958859 |\n",
      "| +I |                    5 |                  charlie_brown |      charlie.brown@example.com |      TRUE |         2025 |             7 |           2 | 2025-07-02 08:11:32.958859 |\n",
      "+----+----------------------+--------------------------------+--------------------------------+-----------+--------------+---------------+-------------+----------------------------+\n",
      "5 rows in set\n"
     ]
    }
   ],
   "source": [
    "# Switch to play_iceberg namespace and query users table\n",
    "table_env.use_database(\"play_iceberg\")\n",
    "print(\"✅ Using play_iceberg namespace\")\n",
    "\n",
    "# List tables in current namespace\n",
    "print(\"\\nAvailable tables:\")\n",
    "table_env.execute_sql(\"SHOW TABLES\").print()\n",
    "\n",
    "# Query users table\n",
    "print(\"\\nQuerying users table:\")\n",
    "table_env.execute_sql(\"SELECT * FROM users\").print()\n"
   ]
  }
 ],
 "metadata": {
  "kernelspec": {
   "display_name": ".venv",
   "language": "python",
   "name": "python3"
  },
  "language_info": {
   "codemirror_mode": {
    "name": "ipython",
    "version": 3
   },
   "file_extension": ".py",
   "mimetype": "text/x-python",
   "name": "python",
   "nbconvert_exporter": "python",
   "pygments_lexer": "ipython3",
   "version": "3.11.11"
  }
 },
 "nbformat": 4,
 "nbformat_minor": 2
}
